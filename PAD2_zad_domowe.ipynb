{
 "cells": [
  {
   "cell_type": "code",
   "execution_count": 40,
   "id": "46941830",
   "metadata": {},
   "outputs": [
    {
     "name": "stdout",
     "output_type": "stream",
     "text": [
      "[189 170 189 163 183 171 185 168 173 183 173 173 175 178 183 193 178 173\n",
      " 174 183 183 168 170 178 182 180 183 178 182 188 175 179 183 193 182 183\n",
      " 177 185 188 188 182 185]\n",
      "mean height: 179.74 cm\n",
      "standard deviation: 6.93184 cm\n",
      "minimum height: 163 cm\n",
      "maximum height: 193 cm\n",
      "25th percentil: 174.25 cm\n",
      "median: 182.0 cm\n",
      "75th percentil: 174.25 cm\n"
     ]
    }
   ],
   "source": [
    "#ZADANIE 1\n",
    "\n",
    "import pandas as pd\n",
    "import numpy as np\n",
    "data = pd.read_csv('president_heights.csv')\n",
    "heights = np.array(data['height(cm)'])\n",
    "print(heights)\n",
    "\n",
    "print(f'mean height: {heights.mean().round(2)} cm')\n",
    "print(f'standard deviation: {heights.std().round(5)} cm')\n",
    "print(f'minimum height: {heights.min()} cm')\n",
    "print(f'maximum height: {heights.max()} cm')\n",
    "print(f'25th percentil: {np.percentile(heights,25)} cm')\n",
    "print(f'median: {np.median(heights)} cm')\n",
    "print(f'75th percentil: {np.percentile(heights,25)} cm')"
   ]
  },
  {
   "cell_type": "code",
   "execution_count": 73,
   "id": "e7a175e1",
   "metadata": {},
   "outputs": [
    {
     "name": "stdout",
     "output_type": "stream",
     "text": [
      "[[  1   2  15 -59   9   3  75   6   7   1]\n",
      " [  0   5   0   4   6  16  44   7   1   1]\n",
      " [  7  14   3 -10   9  15  73   8   2   9]\n",
      " [  1   5  15 -54   5  15  35   8   6   4]\n",
      " [  0   8   5 -18   7  16  91   6   7   9]\n",
      " [  7  18  23 -90   4   8  31   0   1   7]\n",
      " [  2   8  20 -72   4   1  91   9   4   4]\n",
      " [  4  12  18 -65   6   9  76   4   9   9]\n",
      " [  7  15  13 -52   5   7  54   2   7   0]\n",
      " [  2   9  15 -56   6   1  98   4   8   4]]\n",
      "wektory_własne:\n",
      "[[-0.29000475+0.j         -0.07545445+0.07743149j -0.07545445-0.07743149j\n",
      "  -0.03544485+0.j          0.42681634+0.j         -0.22172831-0.29869259j\n",
      "  -0.22172831+0.29869259j  0.41343726+0.j         -0.28670255+0.21891569j\n",
      "  -0.28670255-0.21891569j]\n",
      " [-0.24163153+0.j          0.41229621+0.09197324j  0.41229621-0.09197324j\n",
      "   0.45873475+0.j         -0.27056206+0.j         -0.01331344+0.1422557j\n",
      "  -0.01331344-0.1422557j  -0.31591047+0.j          0.41954481-0.10561864j\n",
      "   0.41954481+0.10561864j]\n",
      " [-0.41060573+0.j          0.37509638-0.00960818j  0.37509638+0.00960818j\n",
      "   0.64067986+0.j         -0.37967609+0.j         -0.60525232+0.j\n",
      "  -0.60525232-0.j          0.6457768 +0.j          0.63631555+0.j\n",
      "   0.63631555-0.j        ]\n",
      " [-0.18899971+0.j         -0.05624951+0.174848j   -0.05624951-0.174848j\n",
      "   0.25174536+0.j         -0.07625465+0.j         -0.14870016-0.00795735j\n",
      "  -0.14870016+0.00795735j  0.15206852+0.j          0.21373907+0.00228636j\n",
      "   0.21373907-0.00228636j]\n",
      " [-0.42862199+0.j          0.47707538+0.14580554j  0.47707538-0.14580554j\n",
      "   0.39445834+0.j         -0.69542141+0.j          0.07336021-0.43070469j\n",
      "   0.07336021+0.43070469j -0.25948775+0.j          0.20250102-0.00411374j\n",
      "   0.20250102+0.00411374j]\n",
      " [-0.14730562+0.j         -0.57352911+0.j         -0.57352911-0.j\n",
      "   0.10071325+0.j          0.30158403+0.j         -0.04758838+0.12911829j\n",
      "  -0.04758838-0.12911829j  0.21274791+0.j         -0.1503483 +0.03452906j\n",
      "  -0.1503483 -0.03452906j]\n",
      " [-0.34660607+0.j         -0.13987374+0.06837303j -0.13987374-0.06837303j\n",
      "  -0.04800705+0.j          0.06798106+0.j          0.00512204+0.04215641j\n",
      "   0.00512204-0.04215641j  0.05365357+0.j         -0.0534517 +0.00550802j\n",
      "  -0.0534517 -0.00550802j]\n",
      " [-0.34919853+0.j         -0.08414467+0.07749664j -0.08414467-0.07749664j\n",
      "   0.25925893+0.j         -0.10039982+0.j         -0.06761437-0.25584347j\n",
      "  -0.06761437+0.25584347j -0.38214447+0.j          0.29485109-0.01300678j\n",
      "   0.29485109+0.01300678j]\n",
      " [-0.2440048 +0.j         -0.13777908+0.00402196j -0.13777908-0.00402196j\n",
      "   0.27709282+0.j         -0.00524365+0.j          0.21866893+0.04463336j\n",
      "   0.21866893-0.04463336j -0.12045798+0.j          0.27558332+0.02285482j\n",
      "   0.27558332-0.02285482j]\n",
      " [-0.38231403+0.j         -0.00476199+0.03456836j -0.00476199-0.03456836j\n",
      "   0.04918165+0.j          0.07322815+0.j          0.1819345 -0.29687727j\n",
      "   0.1819345 +0.29687727j -0.11445044+0.j          0.02830199+0.00579727j\n",
      "   0.02830199-0.00579727j]]\n",
      "\n",
      "wartości_własne:\n",
      "[[-0.29000475+0.j         -0.07545445+0.07743149j -0.07545445-0.07743149j\n",
      "  -0.03544485+0.j          0.42681634+0.j         -0.22172831-0.29869259j\n",
      "  -0.22172831+0.29869259j  0.41343726+0.j         -0.28670255+0.21891569j\n",
      "  -0.28670255-0.21891569j]\n",
      " [-0.24163153+0.j          0.41229621+0.09197324j  0.41229621-0.09197324j\n",
      "   0.45873475+0.j         -0.27056206+0.j         -0.01331344+0.1422557j\n",
      "  -0.01331344-0.1422557j  -0.31591047+0.j          0.41954481-0.10561864j\n",
      "   0.41954481+0.10561864j]\n",
      " [-0.41060573+0.j          0.37509638-0.00960818j  0.37509638+0.00960818j\n",
      "   0.64067986+0.j         -0.37967609+0.j         -0.60525232+0.j\n",
      "  -0.60525232-0.j          0.6457768 +0.j          0.63631555+0.j\n",
      "   0.63631555-0.j        ]\n",
      " [-0.18899971+0.j         -0.05624951+0.174848j   -0.05624951-0.174848j\n",
      "   0.25174536+0.j         -0.07625465+0.j         -0.14870016-0.00795735j\n",
      "  -0.14870016+0.00795735j  0.15206852+0.j          0.21373907+0.00228636j\n",
      "   0.21373907-0.00228636j]\n",
      " [-0.42862199+0.j          0.47707538+0.14580554j  0.47707538-0.14580554j\n",
      "   0.39445834+0.j         -0.69542141+0.j          0.07336021-0.43070469j\n",
      "   0.07336021+0.43070469j -0.25948775+0.j          0.20250102-0.00411374j\n",
      "   0.20250102+0.00411374j]\n",
      " [-0.14730562+0.j         -0.57352911+0.j         -0.57352911-0.j\n",
      "   0.10071325+0.j          0.30158403+0.j         -0.04758838+0.12911829j\n",
      "  -0.04758838-0.12911829j  0.21274791+0.j         -0.1503483 +0.03452906j\n",
      "  -0.1503483 -0.03452906j]\n",
      " [-0.34660607+0.j         -0.13987374+0.06837303j -0.13987374-0.06837303j\n",
      "  -0.04800705+0.j          0.06798106+0.j          0.00512204+0.04215641j\n",
      "   0.00512204-0.04215641j  0.05365357+0.j         -0.0534517 +0.00550802j\n",
      "  -0.0534517 -0.00550802j]\n",
      " [-0.34919853+0.j         -0.08414467+0.07749664j -0.08414467-0.07749664j\n",
      "   0.25925893+0.j         -0.10039982+0.j         -0.06761437-0.25584347j\n",
      "  -0.06761437+0.25584347j -0.38214447+0.j          0.29485109-0.01300678j\n",
      "   0.29485109+0.01300678j]\n",
      " [-0.2440048 +0.j         -0.13777908+0.00402196j -0.13777908-0.00402196j\n",
      "   0.27709282+0.j         -0.00524365+0.j          0.21866893+0.04463336j\n",
      "   0.21866893-0.04463336j -0.12045798+0.j          0.27558332+0.02285482j\n",
      "   0.27558332-0.02285482j]\n",
      " [-0.38231403+0.j         -0.00476199+0.03456836j -0.00476199-0.03456836j\n",
      "   0.04918165+0.j          0.07322815+0.j          0.1819345 -0.29687727j\n",
      "   0.1819345 +0.29687727j -0.11445044+0.j          0.02830199+0.00579727j\n",
      "   0.02830199-0.00579727j]]\n",
      "\\macierz odwrotna:\n",
      "[[ 0.47461371  0.13269253 -0.24726695 -0.82965177  0.28250384 -0.17012825\n",
      "   0.58274426  0.83686705  0.4146721  -1.56942847]\n",
      " [-0.38032531 -0.11226789  0.23216372  0.58853747 -0.2508954   0.10174485\n",
      "  -0.40729564 -0.58325689 -0.2335154   1.11832726]\n",
      " [ 0.13559662  0.58950334 -0.24709855 -0.58789838 -0.30170699 -0.12721938\n",
      "   0.23740295  1.01003036 -0.02151387 -0.64590149]\n",
      " [ 0.01425207  0.14570726 -0.04557569 -0.12721972 -0.08945184 -0.03756624\n",
      "   0.03910376  0.23606066 -0.01436771 -0.11345749]\n",
      " [-0.09473246  0.01725249  0.19145597  0.32960274 -0.28626296  0.08348529\n",
      "  -0.37577603 -0.27295934 -0.25855803  0.74691827]\n",
      " [ 0.16387032  0.10075684 -0.15404907 -0.29794662  0.16916877 -0.02827782\n",
      "   0.20469921  0.28036265  0.15086178 -0.5882585 ]\n",
      " [ 0.04288003  0.02246462 -0.0366803  -0.09024915  0.04322146 -0.01047861\n",
      "   0.06167348  0.07009721  0.0367806  -0.14185925]\n",
      " [-0.26858433 -0.21167346  0.25168367  0.55607234 -0.16804333  0.01066975\n",
      "  -0.22435849 -0.52957038 -0.15757224  0.77302113]\n",
      " [-0.15583541 -0.13041404  0.0984558   0.3150966  -0.09916278 -0.04426337\n",
      "  -0.20832614 -0.18404388 -0.04309498  0.45794224]\n",
      " [-0.05970783 -0.11342903  0.09122544  0.11908074 -0.00311646  0.02370807\n",
      "  -0.07526552 -0.06924544 -0.10963836  0.16553689]]\n",
      "[[ 1.00000000e+00  1.88737914e-15 -4.85722573e-16 -6.10622664e-16\n",
      "   1.42854478e-15 -9.02056208e-17 -4.44089210e-16  9.85322934e-16\n",
      "   8.32667268e-17 -1.77635684e-15]\n",
      " [ 3.19189120e-16  1.00000000e+00 -1.80411242e-16 -4.99600361e-16\n",
      "  -7.02563008e-17 -1.52655666e-16  8.32667268e-16  2.63677968e-16\n",
      "   2.77555756e-17 -6.66133815e-16]\n",
      " [-1.24900090e-16  4.71844785e-16  1.00000000e+00  5.55111512e-17\n",
      "   1.03216047e-16 -8.32667268e-17  2.77555756e-17 -3.74700271e-16\n",
      "   8.88178420e-16  1.77635684e-15]\n",
      " [ 9.43689571e-16  1.16573418e-15 -3.33066907e-16  1.00000000e+00\n",
      "   8.01442246e-16 -2.35922393e-16  4.99600361e-16  1.66533454e-15\n",
      "   8.32667268e-17  0.00000000e+00]\n",
      " [-1.38777878e-17 -1.94289029e-16 -4.99600361e-16 -1.66533454e-16\n",
      "   1.00000000e+00  2.77555756e-17  6.93889390e-16  6.24500451e-16\n",
      "   0.00000000e+00  0.00000000e+00]\n",
      " [ 6.24500451e-16  1.19348975e-15 -1.66533454e-16  1.05471187e-15\n",
      "   1.60375185e-15  1.00000000e+00  8.32667268e-17 -1.73472348e-15\n",
      "  -4.44089210e-16  3.55271368e-15]\n",
      " [ 3.88578059e-16  1.11022302e-16 -2.77555756e-16  6.66133815e-16\n",
      "   8.29197822e-16  1.52655666e-16  1.00000000e+00 -4.99600361e-16\n",
      "   0.00000000e+00 -3.55271368e-15]\n",
      " [ 6.52256027e-16  1.13797860e-15 -4.99600361e-16 -1.05471187e-15\n",
      "  -6.04551131e-16 -4.44089210e-16  6.93889390e-16  1.00000000e+00\n",
      "   0.00000000e+00 -3.55271368e-15]\n",
      " [ 4.99600361e-16  9.71445147e-16  1.24900090e-16  2.22044605e-16\n",
      "   5.13478149e-16 -1.45716772e-16 -9.15933995e-16  3.60822483e-16\n",
      "   1.00000000e+00  0.00000000e+00]\n",
      " [ 6.10622664e-16  1.66533454e-15 -7.77156117e-16 -1.11022302e-15\n",
      "   9.95731275e-16 -1.11022302e-16  7.77156117e-16  9.43689571e-16\n",
      "   4.44089210e-16  1.00000000e+00]]\n"
     ]
    }
   ],
   "source": [
    "#ZADANIE 2\n",
    "import numpy as np\n",
    "data=np.genfromtxt('Zadanie_2.csv', delimiter=';', dtype='int')\n",
    "print(data)\n",
    "eig_values, eig_vectors=np.linalg.eig(data)\n",
    "\n",
    "#podpunkt a\n",
    "print(f'wektory_własne:\\n{eig_vectors}')\n",
    "print(f'\\nwartości_własne:\\n{eig_vectors}')\n",
    "\n",
    "#podpunkt b\n",
    "inverted=np.linalg.inv(data)\n",
    "print(f'\\macierz odwrotna:\\n{inverted}')\n",
    "\n",
    "#sprawdzam czy się zgadza \n",
    "#(odpowiedzią powinna być macierz jednostkowa a pozostałe poza przekątną wartości powinby być bliskie 0)\n",
    "print(data@inverted)"
   ]
  },
  {
   "cell_type": "code",
   "execution_count": 237,
   "id": "0145b726",
   "metadata": {},
   "outputs": [
    {
     "data": {
      "image/png": "[encoded data removed]",
      "text/plain": [
       "<Figure size 432x288 with 1 Axes>"
      ]
     },
     "metadata": {
      "needs_background": "light"
     },
     "output_type": "display_data"
    }
   ],
   "source": [
    "#ZADANIE 3\n",
    "import numpy as np\n",
    "import pandas as pd\n",
    "# use pandas to extract rainfall inches as a NumPy array\n",
    "rainfall = pd.read_csv('Seattle2014.csv')['PRCP'].values\n",
    "inches = rainfall / 254.0  # 1/10mm -> inches\n",
    "%matplotlib inline\n",
    "import matplotlib.pyplot as plt\n",
    "plt.hist(inches, 40);"
   ]
  },
  {
   "cell_type": "code",
   "execution_count": 238,
   "id": "01393090",
   "metadata": {},
   "outputs": [
    {
     "name": "stdout",
     "output_type": "stream",
     "text": [
      "Number of days without rain:: 215\n",
      "Number of days with rain: 150\n",
      "Days with more than 0.5 inches: 37\n",
      "Rainy days with < 0.2 inches: 75\n"
     ]
    }
   ],
   "source": [
    "print(f'Number of days without rain:: {np.count_nonzero(inches==0)}')\n",
    "print(f'Number of days with rain: {np.count_nonzero(inches>0)}')\n",
    "print(f'Days with more than 0.5 inches: {np.count_nonzero(inches>0.5)}')\n",
    "print(f'Rainy days with < 0.2 inches: {np.count_nonzero((inches [inches > 0])<0.2)}')"
   ]
  },
  {
   "cell_type": "code",
   "execution_count": 280,
   "id": "36f0698b",
   "metadata": {},
   "outputs": [
    {
     "name": "stdout",
     "output_type": "stream",
     "text": [
      "Median precip on rainy days in 2014 (inches): 0.19488188976377951\n",
      "Median precip on summer days in 2014 (inches): 0.0\n",
      "Maximum precip on summer days in 2014 (inches): : 0.8503937007874016\n",
      "Median precip on non-summer in 2014 (inches): : 1.8385826771653544\n"
     ]
    }
   ],
   "source": [
    "lato=np.array(np.zeros(365),dtype=bool)\n",
    "lato[171:261]=True\n",
    "\n",
    "print(f'Median precip on rainy days in 2014 (inches): {np.median(inches [inches > 0])}')\n",
    "print(f'Median precip on summer days in 2014 (inches): {np.median(inches[lato])}')\n",
    "print(f'Maximum precip on summer days in 2014 (inches): : {np.max(inches[lato])}')\n",
    "print(f'Median precip on non-summer in 2014 (inches): : {np.max(inches[np.invert(lato)])}')"
   ]
  },
  {
   "cell_type": "code",
   "execution_count": 278,
   "id": "0b9fc3d3",
   "metadata": {},
   "outputs": [
    {
     "name": "stdout",
     "output_type": "stream",
     "text": [
      "Wektor A: [0 3 2 5], Wektor B: [0 3 1 4], Skalar a=4\n",
      "Suma wektorów A+B: [0 6 3 9]\n",
      "Różnica wektorów A-B: [0 0 1 1]\n",
      "Wektor B * skalar 4 = [ 0 12  4 16]\n",
      "Iloczyn skalarny wektorów A i B = 31\n"
     ]
    }
   ],
   "source": [
    "#ZADANIE 4\n",
    "A = [0,3,2,5]\n",
    "B = [0,3,1,4]\n",
    "a=4\n",
    "VA=np.array(A)\n",
    "VB=np.array(B)\n",
    "\n",
    "print(f'Wektor A: {VA}, Wektor B: {VB}, Skalar a={a}')\n",
    "print(f'Suma wektorów A+B: {VA+VB}')\n",
    "print(f'Różnica wektorów A-B: {VA-VB}')\n",
    "print(f'Wektor B * skalar {a} = {VB*a}')\n",
    "print(f'Iloczyn skalarny wektorów A i B = {VA@VB}')"
   ]
  }
 ],
 "metadata": {
  "kernelspec": {
   "display_name": "Python 3 (ipykernel)",
   "language": "python",
   "name": "python3"
  },
  "language_info": {
   "codemirror_mode": {
    "name": "ipython",
    "version": 3
   },
   "file_extension": ".py",
   "mimetype": "text/x-python",
   "name": "python",
   "nbconvert_exporter": "python",
   "pygments_lexer": "ipython3",
   "version": "3.9.12"
  }
 },
 "nbformat": 4,
 "nbformat_minor": 5
}
